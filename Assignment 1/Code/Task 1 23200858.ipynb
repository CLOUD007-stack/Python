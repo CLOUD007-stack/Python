{
 "cells": [
  {
   "cell_type": "markdown",
   "id": "2893cdd7",
   "metadata": {},
   "source": [
    "# COMP30760 Assignment 1 Sample - Task 1"
   ]
  },
  {
   "cell_type": "markdown",
   "id": "3c62536d",
   "metadata": {},
   "source": [
    "In this assignment we makes an API request to the ***Ticketmaster API*** in order to obtain USA Event, Venue, Ticket, Prices, Segments and many more information, which is subsequently processed and saved to a CSV file. This notebook covers ***Task 1 - Data Collection***. "
   ]
  },
  {
   "cell_type": "markdown",
   "id": "2bbc93f8",
   "metadata": {},
   "source": [
    "This code has:\n",
    "\n",
    "1. Using an API key and parameters, we created an API request to the Ticketmaster API.\n",
    "\n",
    "2. After submitting the API request, we verify its success.\n",
    "\n",
    "3. We retrieve event data from the API response if we are successful.\n",
    "\n",
    "4. We process this data, extracting information about the event, location, cost, and category.\n",
    "\n",
    "5. We use a structured DataFrame to store this processed data.\n",
    "\n",
    "6. A CSV file containing the DataFrame is saved for later examination.\n",
    "\n",
    "7. An error message appears if the API request is unsuccessful.\n",
    "\n",
    "\n",
    "API Link :  https://developer.ticketmaster.com/products-and-docs/apis/discovery-api/v2/"
   ]
  },
  {
   "cell_type": "markdown",
   "id": "10eaf5c5",
   "metadata": {},
   "source": [
    "If it doesn't already exist, create the directory for storing raw data"
   ]
  },
  {
   "cell_type": "code",
   "execution_count": 1,
   "id": "355e6f86",
   "metadata": {},
   "outputs": [],
   "source": [
    "from pathlib import Path\n",
    "dir_raw = Path(\"raw\")\n",
    "dir_raw.mkdir(parents=True, exist_ok=True)"
   ]
  },
  {
   "cell_type": "markdown",
   "id": "f23d5953",
   "metadata": {},
   "source": [
    "## Data Collection "
   ]
  },
  {
   "cell_type": "markdown",
   "id": "00243d2e",
   "metadata": {},
   "source": [
    "Here I created a code to gather the all relevent information of API Ticketmaster from given description of the key and parameters.\n",
    "\n",
    "****\n",
    "We configured the URL and API key needed to submit a request to the Ticketmaster API.\n",
    "The params dictionary defines the query parameters, which include the API key and any extra arguments required to perfect the query."
   ]
  },
  {
   "cell_type": "code",
   "execution_count": 2,
   "id": "4357ed7c",
   "metadata": {},
   "outputs": [],
   "source": [
    "import pandas as pd\n",
    "import requests\n",
    "from pathlib import Path\n",
    "\n",
    "# list is used to store data \n",
    "event_data = []\n",
    "\n",
    "# API key and URL\n",
    "api_key = \"SLAUh2m7UqGMFF20aWqGpIvElNCn7O0W\"\n",
    "url = \"https://app.ticketmaster.com/discovery/v2/events.json\"\n",
    "\n",
    "for p in range(5):  # (5 API req * 200 records) = 1000 records\n",
    "\n",
    "    # Set up the API request parameters\n",
    "    params = {\n",
    "        'apikey': api_key,\n",
    "        'size': 200,\n",
    "        'page': p,\n",
    "    }\n",
    "\n",
    "    # API request\n",
    "    response = requests.get(url, params=params)\n",
    "\n",
    "    # Confirm the success of the request (status code 200)\n",
    "    if response.status_code == 200:\n",
    "\n",
    "        # Compile the answer in JSON format\n",
    "        data = response.json()\n",
    "\n",
    "        # Extracting and handling event data\n",
    "        events = data.get('_embedded', {}).get('events', [])\n",
    "\n",
    "        for event in events:\n",
    "            \n",
    "            \n",
    "            # Event information\n",
    "            event_id = event.get('id', '') \n",
    "            event_name = event.get('name', '')\n",
    "            event_url = event.get('url', '')\n",
    "            event_type = event.get('type', '')\n",
    "            start_date_time = event.get(\"dates\", {}).get(\"start\", {}).get(\"localDate\", \"\")\n",
    "          \n",
    "\n",
    "            # Location information\n",
    "            location = event.get('_embedded', {}).get('venues', [{}])[0]\n",
    "            city = location.get('name', '')\n",
    "            state_info = location.get('state', {}) if location else {}\n",
    "            state = state_info.get('name', '')\n",
    "            country_info = location.get('country', {}) if location else {}\n",
    "            country = country_info.get('name', '')\n",
    "            venue_name = location.get('name', '')\n",
    "            box_office_info = location.get('boxOfficeInfo', {}).get(\"phoneNumberDetail\",\"\")\n",
    "            open_hours = location.get('boxOfficeInfo', {}).get(\"openHoursDetail\",\"\")\n",
    "            willCallDetail = location.get('boxOfficeInfo', {}).get(\"willCallDetail\",\"\")\n",
    "            \n",
    "            \n",
    "            \n",
    "            # Venue details\n",
    "            postal_code = location.get('postalCode', '')\n",
    "            timezone = location.get('timezone', '')\n",
    "            address = location.get('address', {}).get('line1', '')\n",
    "            longitude = location.get('location', {}).get('longitude', '')\n",
    "            latitude = location.get('location', {}).get('latitude', '')\n",
    "            parking_info = location.get(\"parkingDetail\", \"\")\n",
    "            \n",
    "            venue_data = event.get(\"_embedded\", {}).get(\"venues\", [{}])[0]\n",
    "            \n",
    "            \n",
    "           \n",
    "            # Extracting and handling the classifications information\n",
    "            classifications = event.get('classifications', [{}])[0]\n",
    "            segment = classifications.get('segment', {}).get('name', '')\n",
    "            genre = classifications.get('genre', {}).get('name', '')\n",
    "            subGenre = classifications.get('subGenre', {}).get('name', '')\n",
    "            type = classifications.get('type', {}).get('name', '')\n",
    "            subType = classifications.get('subType', {}).get('name', '')\n",
    "            family = classifications.get('family', False)\n",
    "            \n",
    "\n",
    "            # Price ranges\n",
    "            price_ranges = event.get('priceRanges', [{}])[0]\n",
    "            standard_price_currency = price_ranges.get('currency', '')\n",
    "            standard_price_min = price_ranges.get('min', 0.0)\n",
    "            standard_price_max = price_ranges.get('max', 0.0)\n",
    "\n",
    "            # Cost information\n",
    "            cost = f\"{standard_price_currency} {standard_price_min} - {standard_price_currency} {standard_price_max}\"\n",
    "\n",
    "            # Product information\n",
    "            products = event.get('products', [{}])[0]\n",
    "            product_name = products.get('name', '')\n",
    "            product_id = products.get('id', '')\n",
    "            product_url = products.get('url', '')\n",
    "            product_type = products.get('type', '')\n",
    "            \n",
    "\n",
    "            # Payment details if available\n",
    "            payment_info = event.get('promoter', {}).get('name', '')\n",
    "            \n",
    "            \n",
    "            # Ticket limit information\n",
    "            ticket_limit = event.get('accessibility', {}).get('ticketLimit', 'Not Available')\n",
    "            ticketLimit_info = event.get(\"info\", \"\")\n",
    "            \n",
    "            \n",
    "            \n",
    "            # Append Data \n",
    "            event_data.append([\n",
    "                event_id, event_name, event_url, start_date_time, venue_name,\n",
    "                segment, genre, subGenre, type, subType, family,\n",
    "                standard_price_currency, standard_price_min, standard_price_max,\n",
    "                cost, ticket_limit, ticketLimit_info,   \n",
    "                product_name, product_id, product_url, product_type,\n",
    "                city, state, country, event_type, payment_info,\n",
    "                postal_code, timezone, address, longitude, latitude,\n",
    "                box_office_info, open_hours, willCallDetail, parking_info\n",
    "            ])\n",
    "            \n",
    "        # Transform the event data into a DataFrame\n",
    "        df = pd.DataFrame(event_data, columns=[\n",
    "            'Event ID', 'Event Name', 'Event URL', 'Event Date', 'Venue',\n",
    "            'Segment', 'Genre', 'SubGenre', 'Type', 'SubType', 'Family',\n",
    "            'Standard Price Currency', 'Standard Price Min', 'Standard Price Max',\n",
    "            'Cost', 'Ticket Limit', 'Ticket Limit Info', \n",
    "            'Product Name', 'Product ID', 'Product URL', 'Product Type',\n",
    "            'City', 'State', 'Country', 'Event Type', 'Payment Info',\n",
    "            'Postal Code', 'Timezone', 'Address', 'Longitude', 'Latitude',\n",
    "            'Box Office Info','Open hours','will Call Details', 'Parking Info'\n",
    "        ])\n",
    "\n",
    "        df = df.drop_duplicates(subset=['Event ID'])\n",
    "\n",
    "    else:\n",
    "        print(\"API request failed with status code:\", response.status_code)\n"
   ]
  },
  {
   "cell_type": "markdown",
   "id": "e6e5bda8",
   "metadata": {},
   "source": [
    "1. Save DataFrame to the designated path. \n",
    "2. Give the whole path to the raw data CSV file."
   ]
  },
  {
   "cell_type": "code",
   "execution_count": 3,
   "id": "55fc5aae",
   "metadata": {},
   "outputs": [
    {
     "name": "stdout",
     "output_type": "stream",
     "text": [
      "1000 records have been added to raw/raw_Event_Data.csv.\n"
     ]
    }
   ],
   "source": [
    "# Save the data to a CSV file in the particular location\n",
    "raw_csv_path = Path('raw/raw_Event_Data.csv')\n",
    "df.to_csv(raw_csv_path, index=False)\n",
    "print(f\"1000 records have been added to {raw_csv_path}.\")\n"
   ]
  },
  {
   "cell_type": "markdown",
   "id": "cd9fa182",
   "metadata": {},
   "source": [
    "##### Load CSV from raw directory "
   ]
  },
  {
   "cell_type": "code",
   "execution_count": 4,
   "id": "8616c116",
   "metadata": {},
   "outputs": [
    {
     "name": "stdout",
     "output_type": "stream",
     "text": [
      "(1000, 35)\n"
     ]
    }
   ],
   "source": [
    "rawdata = pd.read_csv('raw/raw_Event_Data.csv')\n",
    "print(rawdata.shape)"
   ]
  },
  {
   "cell_type": "markdown",
   "id": "feba55f1",
   "metadata": {},
   "source": [
    "## Summary : \n",
    "\n",
    "To summarize, this code collects event data by systematically using the Ticketmaster API to obtain 1000 records, divided into 200 records each time. \n",
    "\n",
    "For every segment, it obtains event information from the API, such as the name, date, location, categories, cost, and payment information and many more. \n",
    "\n",
    "Creates a DataFrame from the data, with each row representing an event.\n",
    "\n",
    "Adds the DataFrame in the end to compile all the data.\n",
    "\n",
    "The end product is an extensive dataset that was gathered through numerous API requests and contains financial information related to the events."
   ]
  }
 ],
 "metadata": {
  "kernelspec": {
   "display_name": "Python 3 (ipykernel)",
   "language": "python",
   "name": "python3"
  },
  "language_info": {
   "codemirror_mode": {
    "name": "ipython",
    "version": 3
   },
   "file_extension": ".py",
   "mimetype": "text/x-python",
   "name": "python",
   "nbconvert_exporter": "python",
   "pygments_lexer": "ipython3",
   "version": "3.11.4"
  }
 },
 "nbformat": 4,
 "nbformat_minor": 5
}
